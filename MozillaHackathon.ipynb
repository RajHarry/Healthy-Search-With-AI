{
 "cells": [
  {
   "cell_type": "code",
   "execution_count": 0,
   "metadata": {
    "colab": {
     "base_uri": "https://localhost:8080/",
     "height": 129
    },
    "colab_type": "code",
    "id": "mg3sjQ9ApIZ2",
    "outputId": "0f67c717-4e4e-4616-9fa9-465406a2455a"
   },
   "outputs": [
    {
     "name": "stdout",
     "output_type": "stream",
     "text": [
      "Go to this URL in a browser: https://accounts.google.com/o/oauth2/auth?client_id=947318989803-6bn6qk8qdgf4n4g3pfee6491hc0brc4i.apps.googleusercontent.com&redirect_uri=urn%3Aietf%3Awg%3Aoauth%3A2.0%3Aoob&scope=email%20https%3A%2F%2Fwww.googleapis.com%2Fauth%2Fdocs.test%20https%3A%2F%2Fwww.googleapis.com%2Fauth%2Fdrive%20https%3A%2F%2Fwww.googleapis.com%2Fauth%2Fdrive.photos.readonly%20https%3A%2F%2Fwww.googleapis.com%2Fauth%2Fpeopleapi.readonly&response_type=code\n",
      "\n",
      "Enter your authorization code:\n",
      "··········\n",
      "Mounted at /content/drive\n"
     ]
    }
   ],
   "source": [
    "from google.colab import drive\n",
    "drive.mount('/content/drive')"
   ]
  },
  {
   "cell_type": "code",
   "execution_count": 0,
   "metadata": {
    "colab": {
     "base_uri": "https://localhost:8080/",
     "height": 35
    },
    "colab_type": "code",
    "id": "-51g0q5kpT_-",
    "outputId": "dd494817-b866-4b2e-a0f5-e1818f7e0299"
   },
   "outputs": [
    {
     "name": "stdout",
     "output_type": "stream",
     "text": [
      "/content/drive/My Drive/mozilla_hackathon\n"
     ]
    }
   ],
   "source": [
    "cd drive/My\\ Drive/mozilla_hackathon"
   ]
  },
  {
   "cell_type": "code",
   "execution_count": 0,
   "metadata": {
    "colab": {
     "base_uri": "https://localhost:8080/",
     "height": 313
    },
    "colab_type": "code",
    "id": "LaSDWOKArrqh",
    "outputId": "4a27b620-6e4b-4f15-e558-b9257e5af3b8"
   },
   "outputs": [
    {
     "name": "stderr",
     "output_type": "stream",
     "text": [
      "Using TensorFlow backend.\n"
     ]
    },
    {
     "name": "stdout",
     "output_type": "stream",
     "text": [
      "WARNING:tensorflow:From /usr/local/lib/python3.6/dist-packages/keras/backend/tensorflow_backend.py:66: The name tf.get_default_graph is deprecated. Please use tf.compat.v1.get_default_graph instead.\n",
      "\n",
      "WARNING:tensorflow:From /usr/local/lib/python3.6/dist-packages/keras/backend/tensorflow_backend.py:541: The name tf.placeholder is deprecated. Please use tf.compat.v1.placeholder instead.\n",
      "\n",
      "WARNING:tensorflow:From /usr/local/lib/python3.6/dist-packages/keras/backend/tensorflow_backend.py:4432: The name tf.random_uniform is deprecated. Please use tf.random.uniform instead.\n",
      "\n",
      "WARNING:tensorflow:From /usr/local/lib/python3.6/dist-packages/keras/backend/tensorflow_backend.py:4267: The name tf.nn.max_pool is deprecated. Please use tf.nn.max_pool2d instead.\n",
      "\n",
      "Downloading data from https://github.com/fchollet/deep-learning-models/releases/download/v0.1/vgg16_weights_tf_dim_ordering_tf_kernels.h5\n",
      "553467904/553467096 [==============================] - 13s 0us/step\n",
      "WARNING:tensorflow:From /usr/local/lib/python3.6/dist-packages/keras/backend/tensorflow_backend.py:190: The name tf.get_default_session is deprecated. Please use tf.compat.v1.get_default_session instead.\n",
      "\n",
      "WARNING:tensorflow:From /usr/local/lib/python3.6/dist-packages/keras/backend/tensorflow_backend.py:197: The name tf.ConfigProto is deprecated. Please use tf.compat.v1.ConfigProto instead.\n",
      "\n"
     ]
    }
   ],
   "source": [
    "import requests\n",
    "import bs4\n",
    "from bs4 import BeautifulSoup\n",
    "import re\n",
    "import nltk\n",
    "from nltk.corpus import stopwords\n",
    "from nltk.stem import PorterStemmer\n",
    "from nltk.stem import WordNetLemmatizer\n",
    "from nltk.tokenize import word_tokenize\n",
    "\n",
    "import time\n",
    "import urllib\n",
    "import sys\n",
    "import cv2\n",
    "import keras\n",
    "import numpy as np\n",
    "from keras.applications import vgg16, inception_v3, resnet50, mobilenet\n",
    "\n",
    "from keras.preprocessing.image import load_img\n",
    "from keras.preprocessing.image import img_to_array\n",
    "from keras.applications.imagenet_utils import decode_predictions\n",
    "import matplotlib.pyplot as plt\n",
    "\n",
    "#Load the VGG model\n",
    "vgg_model = vgg16.VGG16(weights='imagenet')"
   ]
  },
  {
   "cell_type": "code",
   "execution_count": 0,
   "metadata": {
    "colab": {},
    "colab_type": "code",
    "id": "W22-GSCupIyy"
   },
   "outputs": [],
   "source": [
    "def img_text_model(url):\n",
    "  print(\">> analysis started !!!\")\n",
    "  t1 = time.time()\n",
    "  response = requests.get(url)\n",
    "  main_soup = BeautifulSoup(response.text,\"html.parser\")\n",
    "\n",
    "  data = main_soup.findAll('p')\n",
    "  print(\">> Text Analysis\")\n",
    "  s = ''\n",
    "  for i in data:\n",
    "      s+=\" \"+i.getText()\n",
    "\n",
    "  result = re.sub(r'\\d+', '', s)\n",
    "  result_1 = re.sub(r'[^\\w\\s]','',result)\n",
    "  result_1 = result_1.strip()\n",
    "\n",
    "  stop_words = set(stopwords.words('english'))\n",
    "  tokens = word_tokenize(result_1.lower())\n",
    "  result = [i for i in tokens if not i in stop_words]\n",
    "\n",
    "  stemmer= PorterStemmer()\n",
    "  #input_str=”There are several types of stemming algorithms.”\n",
    "  #input_str=word_tokenize(result)\n",
    "  res_1 = []\n",
    "  for word in result:\n",
    "      res_1.append(stemmer.stem(word))\n",
    "\n",
    "  res_2 = []\n",
    "  lemmatizer=WordNetLemmatizer()\n",
    "  for word in res_1:\n",
    "      res_2.append(lemmatizer.lemmatize(word))\n",
    "\n",
    "  allWordExceptStopDist = nltk.FreqDist(w for w in res_2) \n",
    "  mostCommon= allWordExceptStopDist.most_common(150)\n",
    "  print(\"time elapsed for *Text Analysis*: \",time.time()-t1)\n",
    "  t1 = time.time()\n",
    "  r = requests.get(url)\n",
    "  html = r.text\n",
    "  soup = BeautifulSoup(html, 'lxml')\n",
    "\n",
    "  img_links = []\n",
    "  for word in soup.find_all('body'):\n",
    "      for k in word.findAll('img'):\n",
    "        #print(k)\n",
    "        #print(k['src'])\n",
    "        #assert(False)\n",
    "        try:\n",
    "          k1 = k['src']\n",
    "          img_links.append(k1)\n",
    "        except:\n",
    "          pass\n",
    "  unique_img_list = list(dict.fromkeys(img_links))\n",
    "  #plt.show()\n",
    "\n",
    "  spam_words=['free', 'market', 'credit', 'offer', 'rate', 'remov', 'money', 'email', 'cash', 'order', 'earn', 'home', 'hidden', 'invest', 'time', 'debt', 'get', 'stock', 'claim', 'spam', 'new', 'onlin', 'dollar', 'form', 'mail', 'guarante', 'sale', 'million', 'one', 'stop', 'friend', 'busi', 'bonu', 'access', 'price', 'call', 'check', 'click', 'deal', 'today', 'per', 'incom', 'instant', 'give', 'away', 'increas', 'insur', 'lose', 'weight', 'lower', 'mortgag', 'win', 'winner', 'revers', 'age', 'asset', 'snore', 'dig', 'dirt', 'disclaim', 'statement', 'compar', 'cabl', 'convert', 'list', 'instal', 'auto', 'collect', 'lead', 'amaz', 'ad', 'promis', 'search', 'engin', 'preview', 'bureau', 'accept', 'appli', 'best', 'billion', 'brand', 'card', 'consolid', 'copi', 'dvd', 'cost', 'direct', 'dont', 'extra', 'week', 'term', 'elimin', 'e', 'financi', 'freedom', 'phone', 'prioriti', 'quot', 'sampl', 'trial', 'websit', 'refund', 'inform', 'traffic', 'request', 'internet', 'join', 'lifetim', 'limit', 'lowest', 'make', 'solut', 'hundr', 'percent', 'day', 'prize', 'refin', 'satisfact', 'isnt', 'unsecur', 'vacat', 'work', 'multi', 'level', 'wrinkl', 'compet', 'grant', 'child', 'support', 'stuff', 'tell', 'accord', 'law', 'seriou', 'satisfi', 'accordingli', 'act', 'afford', 'avoid', 'bargain', 'beneficiari', 'beverag', 'big', 'buck', 'bill', 'address', 'pager', 'buy', 'cancel', 'combin']\n",
    "  h_words = ['deadli', 'bale', 'fatal', 'lethal', 'murder', 'pestil', 'imperil', 'destruct', 'damag', 'danger', 'fight', 'harm', 'deathli', 'fell', 'mortal', 'termin', 'vital', 'hostil', 'inim', 'unfriendli', 'contagi', 'infecti', 'infect', 'pestifer', 'pestilenti', 'poison', 'venom', 'insidi', 'menac', 'omin', 'sinist', 'threaten', 'hazard', 'jeopard', 'parlou', 'peril', 'riski', 'unsaf', 'unsound', 'nasti', 'noisom', 'unhealth', 'unhealthi', 'unwholesom', 'killer', 'malign', 'ruinou', 'advers', 'bad', 'bane', 'deleteri', 'detriment', 'evil', 'hurt', 'ill', 'injuri', 'mischiev', 'nocuou', 'noxiou', 'pernici', 'prejudici', 'wick', 'suicid', 'kill', 'knife', 'bomb', 'reveng', 'gun', 'weapon', 'fire', 'ak', 'effect', 'mg', 'mm', 'target', 'rifl', 'hk', 'lightweight', 'hit', 'xm', 'acsw', 'submachin', 'hunt', 'deadliest', 'cau', 'terribl', 'move', 'assault', 'barrel', 'sniper', 'grenad', 'launcher', 'defen']\n",
    "\n",
    "  spam_count=0\n",
    "  for i in mostCommon:\n",
    "      if(i[0] in spam_words):\n",
    "          spam_count+=1\n",
    "\n",
    "  if(spam_count>20):\n",
    "      print(\"WebPage Blocked (Spam Content Detected)\")\n",
    "  elif(spam_count>15):\n",
    "    print(\"**Webpage Warning (Spam Content Detected)**\")\n",
    "  elif(spam_count>10 and spam_count<15):\n",
    "      print(\"**Webpage Warning (Spam Content Detected)**\")\n",
    "      print(\"\\n>> Image Analysis\")\n",
    "      weaps = ['assault_rifle','rifle','military_uniform','pickelhaube']\n",
    "      il_weap = 0\n",
    "      #plt.figure(1)\n",
    "      for img in unique_img_list:\n",
    "          urllib.request.urlretrieve(str(img), \"temp_img.png\")\n",
    "          #load_temp_img = cv2.imread(\"temp_img.png\")\n",
    "          original = load_img(\"temp_img.png\", target_size=(224, 224))\n",
    "          numpy_image = img_to_array(original)\n",
    "\n",
    "          image_batch = np.expand_dims(numpy_image, axis=0)\n",
    "          #print('image batch size', image_batch.shape)\n",
    "          #plt.imshow(np.uint8(image_batch[0]))\n",
    "\n",
    "          processed_image = vgg16.preprocess_input(image_batch.copy())\n",
    "          predictions = vgg_model.predict(processed_image)\n",
    "\n",
    "          label = decode_predictions(predictions)\n",
    "          if(label[0][0][1] in weaps):\n",
    "              il_weap+=1\n",
    "              #for i in range(1,il_weap+1):\n",
    "              #    plt.subplot(\"21{}\".format(i))\n",
    "              #    plt.imshow(np.uint8(image_batch[0]))\n",
    "      print(\"Illegal weapons count {} out of {} \".format(il_weap,len(unique_img_list)))\n",
    "      spam_count=0\n",
    "      for i in mostCommon:\n",
    "          if(i[0] in h_words):\n",
    "              spam_count+=1\n",
    "      if(spam_count>20):\n",
    "          print(\"** WebPage Blocked (Illegal Content) **\")\n",
    "      elif(spam_count>10):\n",
    "          print(\"** Webpage Warning ((Illegal Content)) **\")\n",
    "      else:\n",
    "          if(il_weap>3):\n",
    "            print(\"** webpage has more illegal images **\")\n",
    "          else:\n",
    "            print(\"** You are good to go!!! **\")\n",
    "      print(\"time elapsed for *Image Analysis*: \",time.time()-t1)\n",
    "  else:\n",
    "      #Load the VGG model        \n",
    "      print(\"** No spam in this website.. :)**\")\n",
    "      print(\"\\n>> Image Analysis\")\n",
    "      weaps = ['assault_rifle','rifle','military_uniform','pickelhaube']\n",
    "      il_weap = 0\n",
    "      #plt.figure(1)\n",
    "      for img in unique_img_list:\n",
    "          urllib.request.urlretrieve(str(img), \"temp_img.png\")\n",
    "          #load_temp_img = cv2.imread(\"temp_img.png\")\n",
    "          original = load_img(\"temp_img.png\", target_size=(224, 224))\n",
    "          numpy_image = img_to_array(original)\n",
    "\n",
    "          image_batch = np.expand_dims(numpy_image, axis=0)\n",
    "          #print('image batch size', image_batch.shape)\n",
    "          #plt.imshow(np.uint8(image_batch[0]))\n",
    "\n",
    "          processed_image = vgg16.preprocess_input(image_batch.copy())\n",
    "          predictions = vgg_model.predict(processed_image)\n",
    "\n",
    "          label = decode_predictions(predictions)\n",
    "          if(label[0][0][1] in weaps):\n",
    "              il_weap+=1\n",
    "              #for i in range(1,il_weap+1):\n",
    "              #    plt.subplot(\"21{}\".format(i))\n",
    "              #    plt.imshow(np.uint8(image_batch[0]))\n",
    "      print(\"Illegal weapons count {} out of {} \".format(il_weap,len(unique_img_list)))\n",
    "      spam_count=0\n",
    "      for i in mostCommon:\n",
    "          if(i[0] in h_words):\n",
    "              spam_count+=1\n",
    "      if(spam_count>20):\n",
    "          print(\"** WebPage Blocked (Illegal Content) **\")\n",
    "      elif(spam_count>10):\n",
    "          print(\"** Webpage Warning ((Illegal Content)) **\")\n",
    "      else:\n",
    "          if(il_weap>3):\n",
    "            print(\"** webpage has more illegal images **\")\n",
    "          else:\n",
    "            print(\"** You are good to go!!! **\")\n",
    "      print(\"time elapsed for *Image Analysis*: \",time.time()-t1)"
   ]
  },
  {
   "cell_type": "code",
   "execution_count": 0,
   "metadata": {
    "colab": {
     "base_uri": "https://localhost:8080/",
     "height": 187
    },
    "colab_type": "code",
    "id": "1xuZP9lRaxMQ",
    "outputId": "6b807535-1334-4353-efe8-0e5128f9985c"
   },
   "outputs": [
    {
     "name": "stdout",
     "output_type": "stream",
     "text": [
      "Enter Url:https://listotop.com/top-10-most-dangerous-guns-in-the-world/\n",
      ">> analysis started !!!\n",
      ">> Text Analysis\n",
      "time elapsed for *Text Analysis*:  4.30281925201416\n",
      "** No spam in this website.. :)**\n",
      "\n",
      ">> Image Analysis\n",
      "Illegal weapons count 11 out of 36 \n",
      "** WebPage Blocked (Illegal Content) **\n",
      "time elapsed for *Image Analysis*:  9.984225511550903\n"
     ]
    }
   ],
   "source": [
    "url = input(\"Enter Url:\")\n",
    "img_text_model(url)"
   ]
  },
  {
   "cell_type": "code",
   "execution_count": 0,
   "metadata": {
    "colab": {
     "base_uri": "https://localhost:8080/",
     "height": 187
    },
    "colab_type": "code",
    "id": "9Z77A3-VbAUf",
    "outputId": "903793df-e8ab-493b-b75b-b4ce1bd7fbb1"
   },
   "outputs": [
    {
     "name": "stdout",
     "output_type": "stream",
     "text": [
      "Enter Url:https://listotop.com/top-10-most-dangerous-guns-in-the-world/\n",
      ">> analysis started !!!\n",
      ">> Text Analysis\n",
      "time elapsed for *Text Analysis*:  3.194945812225342\n",
      "** No spam in this website.. :)**\n",
      "\n",
      ">> Image Analysis\n",
      "Illegal weapons count 11 out of 36 \n",
      "** WebPage Blocked (Illegal Content) **\n",
      "time elapsed for *Image Analysis*:  10.18519401550293\n"
     ]
    }
   ],
   "source": [
    "url = input(\"Enter Url:\")\n",
    "img_text_model(url)"
   ]
  },
  {
   "cell_type": "code",
   "execution_count": 0,
   "metadata": {
    "colab": {
     "base_uri": "https://localhost:8080/",
     "height": 187
    },
    "colab_type": "code",
    "id": "EKw22Y2HZ-rV",
    "outputId": "9b1e70a3-3908-4ad3-f523-3cd1fedafada"
   },
   "outputs": [
    {
     "name": "stdout",
     "output_type": "stream",
     "text": [
      "Enter Url:https://www.thedelite.com/worlds-most-dangerous-dog-breeds/\n",
      ">> analysis started !!!\n",
      ">> Text Analysis\n",
      "time elapsed for *Text Analysis*:  0.20853900909423828\n",
      "** No spam in this website.. :)**\n",
      "\n",
      ">> Image Analysis\n",
      "Illegal weapons count 0 out of 0 \n",
      "** You are good to go!!! **\n",
      "time elapsed for *Image Analysis*:  0.14621496200561523\n"
     ]
    }
   ],
   "source": [
    "url = input(\"Enter Url:\")\n",
    "img_text_model(url)"
   ]
  },
  {
   "cell_type": "code",
   "execution_count": 0,
   "metadata": {
    "colab": {
     "base_uri": "https://localhost:8080/",
     "height": 221
    },
    "colab_type": "code",
    "id": "8TCIlqVNad3i",
    "outputId": "a47c3927-92f6-47af-a1b3-1a5ec985526d"
   },
   "outputs": [
    {
     "name": "stdout",
     "output_type": "stream",
     "text": [
      "Enter Url:https://www.expressvpn.com/unrestricted-4\n",
      ">> analysis started !!!\n",
      ">> Text Analysis\n",
      "time elapsed for *Text Analysis*:  0.37649965286254883\n",
      "**Webpage Warning (Spam Content Detected)**\n",
      "\n",
      ">> Image Analysis\n"
     ]
    },
    {
     "name": "stderr",
     "output_type": "stream",
     "text": [
      "/usr/local/lib/python3.6/dist-packages/PIL/Image.py:914: UserWarning: Palette images with Transparency   expressed in bytes should be converted to RGBA images\n",
      "  'to RGBA images')\n"
     ]
    },
    {
     "name": "stdout",
     "output_type": "stream",
     "text": [
      "Illegal weapons count 0 out of 17 \n",
      "** You are good to go!!! **\n",
      "time elapsed for *Image Analysis*:  2.198511838912964\n"
     ]
    }
   ],
   "source": [
    "url = input(\"Enter Url:\")\n",
    "img_text_model(url)"
   ]
  },
  {
   "cell_type": "code",
   "execution_count": 0,
   "metadata": {
    "colab": {
     "base_uri": "https://localhost:8080/",
     "height": 122
    },
    "colab_type": "code",
    "id": "cNcR6p_zbqlF",
    "outputId": "6c89f360-a00c-495d-a27a-6da4145af09c"
   },
   "outputs": [
    {
     "name": "stdout",
     "output_type": "stream",
     "text": [
      "Enter Url:https://www.surveycompare.co.in/?cid=525bed4a6b55f&source=google&medium=cpc&campaign=920833155&adgroup=44453224245&targetid=kwd-302595485974&keyword=earning&matchtype=b&ad=237524760135&network=s&device=c&devicemodel=&target=&placement=&position=1s1&aceid=&ismobile=0&issearch=1&geo=9062136&geointerest=&feeditem=&gclid=Cj0KCQjwqs3rBRCdARIsADe1pfRglnjH1MhClfcUQlnqIzBSjOtP6CgSAeIjjDenuWke9orvByf1QyMaAi_5EALw_wcB\n",
      ">> analysis started !!!\n",
      ">> Text Analysis\n",
      "time elapsed for *Text Analysis*:  1.1020033359527588\n",
      "WebPage Blocked (Spam Content Detected)\n"
     ]
    }
   ],
   "source": [
    "url = input(\"Enter Url:\")\n",
    "img_text_model(url)"
   ]
  },
  {
   "cell_type": "code",
   "execution_count": 0,
   "metadata": {
    "colab": {
     "base_uri": "https://localhost:8080/",
     "height": 187
    },
    "colab_type": "code",
    "id": "E-SltK4Le7Ff",
    "outputId": "88c9be46-bb01-46d5-b29f-84fbcbea68dd"
   },
   "outputs": [
    {
     "name": "stdout",
     "output_type": "stream",
     "text": [
      "Enter Url:https://www.thedelite.com/worlds-most-dangerous-dog-breeds/\n",
      ">> analysis started !!!\n",
      ">> Text Analysis\n",
      "time elapsed for *Text Analysis*:  0.21083831787109375\n",
      "** No spam in this website.. :)**\n",
      "\n",
      ">> Image Analysis\n",
      "Illegal weapons count 0 out of 0 \n",
      "** You are good to go!!! **\n",
      "time elapsed for *Image Analysis*:  0.210923433303833\n"
     ]
    }
   ],
   "source": [
    "url = input(\"Enter Url:\")\n",
    "img_text_model(url)"
   ]
  },
  {
   "cell_type": "code",
   "execution_count": 0,
   "metadata": {
    "colab": {
     "base_uri": "https://localhost:8080/",
     "height": 146
    },
    "colab_type": "code",
    "id": "vCX_GQOysFet",
    "outputId": "e34d24db-b98b-45de-e461-6ec63b29c1f5"
   },
   "outputs": [
    {
     "name": "stdout",
     "output_type": "stream",
     "text": [
      "[nltk_data] Downloading package stopwords to /root/nltk_data...\n",
      "[nltk_data]   Unzipping corpora/stopwords.zip.\n",
      "[nltk_data] Downloading package punkt to /root/nltk_data...\n",
      "[nltk_data]   Unzipping tokenizers/punkt.zip.\n",
      "[nltk_data] Downloading package wordnet to /root/nltk_data...\n",
      "[nltk_data]   Unzipping corpora/wordnet.zip.\n"
     ]
    },
    {
     "data": {
      "text/plain": [
       "True"
      ]
     },
     "execution_count": 4,
     "metadata": {
      "tags": []
     },
     "output_type": "execute_result"
    }
   ],
   "source": [
    "nltk.download(\"stopwords\")\n",
    "nltk.download('punkt')\n",
    "nltk.download('wordnet')\n"
   ]
  },
  {
   "cell_type": "code",
   "execution_count": 0,
   "metadata": {
    "colab": {},
    "colab_type": "code",
    "id": "CF1UhvJ1FdMJ"
   },
   "outputs": [],
   "source": []
  },
  {
   "cell_type": "code",
   "execution_count": 0,
   "metadata": {
    "colab": {},
    "colab_type": "code",
    "id": "LMnci84yffLJ"
   },
   "outputs": [],
   "source": []
  }
 ],
 "metadata": {
  "accelerator": "GPU",
  "colab": {
   "collapsed_sections": [],
   "name": "MozillaHackathon",
   "provenance": [],
   "version": "0.3.2"
  },
  "kernelspec": {
   "display_name": "Python 3",
   "language": "python",
   "name": "python3"
  },
  "language_info": {
   "codemirror_mode": {
    "name": "ipython",
    "version": 3
   },
   "file_extension": ".py",
   "mimetype": "text/x-python",
   "name": "python",
   "nbconvert_exporter": "python",
   "pygments_lexer": "ipython3",
   "version": "3.7.3"
  }
 },
 "nbformat": 4,
 "nbformat_minor": 1
}
